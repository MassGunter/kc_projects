{
 "cells": [
  {
   "cell_type": "code",
   "execution_count": 130,
   "metadata": {},
   "outputs": [],
   "source": [
    "import pandas as pd\n",
    "import matplotlib.pyplot as plt\n",
    "import warnings\n",
    "import seaborn as sns\n",
    "from operator import attrgetter\n",
    "import matplotlib.colors as mcolors"
   ]
  },
  {
   "cell_type": "code",
   "execution_count": 131,
   "metadata": {},
   "outputs": [],
   "source": [
    "#Импортируем датасеты:\n",
    "customers = pd.read_csv(\"/mnt/HC_Volume_18315164/home-jupyter/jupyter-k-stojanov-21/first_project_datasets/olist_customers_dataset.csv\")\n",
    "\n",
    "orders = pd.read_csv(\"/mnt/HC_Volume_18315164/home-jupyter/jupyter-k-stojanov-21/first_project_datasets/olist_orders_dataset.csv\")\n",
    "\n",
    "items = pd.read_csv(\"/mnt/HC_Volume_18315164/home-jupyter/jupyter-k-stojanov-21/first_project_datasets/olist_order_items_dataset.csv\")\n"
   ]
  },
  {
   "cell_type": "code",
   "execution_count": 132,
   "metadata": {},
   "outputs": [],
   "source": [
    "cust_order = customers.merge(orders, how = 'right', on = 'customer_id')"
   ]
  },
  {
   "cell_type": "code",
   "execution_count": 133,
   "metadata": {},
   "outputs": [],
   "source": [
    "cust_order.order_purchase_timestamp = pd.to_datetime(cust_order.order_purchase_timestamp)"
   ]
  },
  {
   "cell_type": "code",
   "execution_count": 134,
   "metadata": {},
   "outputs": [],
   "source": [
    "cust_order = cust_order.query(\"order_purchase_timestamp >= '2017-1' & order_purchase_timestamp < '2018-1-1'\")"
   ]
  },
  {
   "cell_type": "code",
   "execution_count": 135,
   "metadata": {},
   "outputs": [
    {
     "data": {
      "text/plain": [
       "Timestamp('2017-12-31 23:29:31')"
      ]
     },
     "execution_count": 135,
     "metadata": {},
     "output_type": "execute_result"
    }
   ],
   "source": [
    "cust_order.order_purchase_timestamp.max()"
   ]
  },
  {
   "cell_type": "code",
   "execution_count": 136,
   "metadata": {
    "scrolled": true
   },
   "outputs": [],
   "source": [
    "for_cohort = cust_order[[\"customer_unique_id\", \"order_id\", \"order_purchase_timestamp\"]].drop_duplicates()\n",
    "\n",
    "for_cohort['order_purchase_month'] = for_cohort['order_purchase_timestamp'].dt.to_period('M')"
   ]
  },
  {
   "cell_type": "code",
   "execution_count": 137,
   "metadata": {},
   "outputs": [],
   "source": [
    "for_cohort['cohort'] = for_cohort.groupby('customer_unique_id')['order_purchase_timestamp'] \\\n",
    "                        .transform('min') \\\n",
    "                        .dt.to_period('M')"
   ]
  },
  {
   "cell_type": "code",
   "execution_count": 138,
   "metadata": {},
   "outputs": [],
   "source": [
    "df_cohort = for_cohort.groupby(['cohort', 'order_purchase_month']) \\\n",
    "                      .agg(n_customer = ('customer_unique_id', 'nunique')) \\\n",
    "                      .reset_index(drop=False)\n",
    "df_cohort['period_number'] = (df_cohort.order_purchase_month - df_cohort.cohort) \\\n",
    "                             .apply(attrgetter('n'))"
   ]
  },
  {
   "cell_type": "code",
   "execution_count": 139,
   "metadata": {},
   "outputs": [],
   "source": [
    "cohort_pivot = df_cohort.pivot_table(index = 'cohort',\n",
    "                                     columns = 'period_number',\n",
    "                                     values = 'n_customer')"
   ]
  },
  {
   "cell_type": "code",
   "execution_count": 140,
   "metadata": {},
   "outputs": [],
   "source": [
    "cohort_size = cohort_pivot.iloc[:,0]\n",
    "retention_matrix = cohort_pivot.divide(cohort_size, axis = 0)"
   ]
  },
  {
   "cell_type": "code",
   "execution_count": 141,
   "metadata": {},
   "outputs": [
    {
     "data": {
      "text/html": [
       "<div>\n",
       "<style scoped>\n",
       "    .dataframe tbody tr th:only-of-type {\n",
       "        vertical-align: middle;\n",
       "    }\n",
       "\n",
       "    .dataframe tbody tr th {\n",
       "        vertical-align: top;\n",
       "    }\n",
       "\n",
       "    .dataframe thead th {\n",
       "        text-align: right;\n",
       "    }\n",
       "</style>\n",
       "<table border=\"1\" class=\"dataframe\">\n",
       "  <thead>\n",
       "    <tr style=\"text-align: right;\">\n",
       "      <th>period_number</th>\n",
       "      <th>0</th>\n",
       "      <th>1</th>\n",
       "      <th>2</th>\n",
       "      <th>3</th>\n",
       "      <th>4</th>\n",
       "      <th>5</th>\n",
       "      <th>6</th>\n",
       "      <th>7</th>\n",
       "      <th>8</th>\n",
       "      <th>9</th>\n",
       "      <th>10</th>\n",
       "      <th>11</th>\n",
       "    </tr>\n",
       "    <tr>\n",
       "      <th>cohort</th>\n",
       "      <th></th>\n",
       "      <th></th>\n",
       "      <th></th>\n",
       "      <th></th>\n",
       "      <th></th>\n",
       "      <th></th>\n",
       "      <th></th>\n",
       "      <th></th>\n",
       "      <th></th>\n",
       "      <th></th>\n",
       "      <th></th>\n",
       "      <th></th>\n",
       "    </tr>\n",
       "  </thead>\n",
       "  <tbody>\n",
       "    <tr>\n",
       "      <th>2017-01</th>\n",
       "      <td>1.0</td>\n",
       "      <td>0.003922</td>\n",
       "      <td>0.002614</td>\n",
       "      <td>0.001307</td>\n",
       "      <td>0.003922</td>\n",
       "      <td>0.001307</td>\n",
       "      <td>0.005229</td>\n",
       "      <td>0.001307</td>\n",
       "      <td>0.001307</td>\n",
       "      <td>NaN</td>\n",
       "      <td>0.003922</td>\n",
       "      <td>0.001307</td>\n",
       "    </tr>\n",
       "    <tr>\n",
       "      <th>2017-02</th>\n",
       "      <td>1.0</td>\n",
       "      <td>0.002283</td>\n",
       "      <td>0.002854</td>\n",
       "      <td>0.001142</td>\n",
       "      <td>0.003995</td>\n",
       "      <td>0.001142</td>\n",
       "      <td>0.002283</td>\n",
       "      <td>0.001712</td>\n",
       "      <td>0.001712</td>\n",
       "      <td>0.002283</td>\n",
       "      <td>0.001142</td>\n",
       "      <td>NaN</td>\n",
       "    </tr>\n",
       "    <tr>\n",
       "      <th>2017-03</th>\n",
       "      <td>1.0</td>\n",
       "      <td>0.004932</td>\n",
       "      <td>0.003794</td>\n",
       "      <td>0.003794</td>\n",
       "      <td>0.003414</td>\n",
       "      <td>0.001517</td>\n",
       "      <td>0.001517</td>\n",
       "      <td>0.003035</td>\n",
       "      <td>0.003414</td>\n",
       "      <td>0.000759</td>\n",
       "      <td>NaN</td>\n",
       "      <td>NaN</td>\n",
       "    </tr>\n",
       "    <tr>\n",
       "      <th>2017-04</th>\n",
       "      <td>1.0</td>\n",
       "      <td>0.005950</td>\n",
       "      <td>0.002125</td>\n",
       "      <td>0.001700</td>\n",
       "      <td>0.003400</td>\n",
       "      <td>0.002550</td>\n",
       "      <td>0.003400</td>\n",
       "      <td>0.002975</td>\n",
       "      <td>0.002975</td>\n",
       "      <td>NaN</td>\n",
       "      <td>NaN</td>\n",
       "      <td>NaN</td>\n",
       "    </tr>\n",
       "    <tr>\n",
       "      <th>2017-05</th>\n",
       "      <td>1.0</td>\n",
       "      <td>0.005006</td>\n",
       "      <td>0.005006</td>\n",
       "      <td>0.003893</td>\n",
       "      <td>0.003059</td>\n",
       "      <td>0.003337</td>\n",
       "      <td>0.004171</td>\n",
       "      <td>0.001669</td>\n",
       "      <td>NaN</td>\n",
       "      <td>NaN</td>\n",
       "      <td>NaN</td>\n",
       "      <td>NaN</td>\n",
       "    </tr>\n",
       "    <tr>\n",
       "      <th>2017-06</th>\n",
       "      <td>1.0</td>\n",
       "      <td>0.004779</td>\n",
       "      <td>0.003504</td>\n",
       "      <td>0.004141</td>\n",
       "      <td>0.002549</td>\n",
       "      <td>0.003823</td>\n",
       "      <td>0.003823</td>\n",
       "      <td>NaN</td>\n",
       "      <td>NaN</td>\n",
       "      <td>NaN</td>\n",
       "      <td>NaN</td>\n",
       "      <td>NaN</td>\n",
       "    </tr>\n",
       "    <tr>\n",
       "      <th>2017-07</th>\n",
       "      <td>1.0</td>\n",
       "      <td>0.005135</td>\n",
       "      <td>0.003594</td>\n",
       "      <td>0.002567</td>\n",
       "      <td>0.002824</td>\n",
       "      <td>0.002054</td>\n",
       "      <td>NaN</td>\n",
       "      <td>NaN</td>\n",
       "      <td>NaN</td>\n",
       "      <td>NaN</td>\n",
       "      <td>NaN</td>\n",
       "      <td>NaN</td>\n",
       "    </tr>\n",
       "    <tr>\n",
       "      <th>2017-08</th>\n",
       "      <td>1.0</td>\n",
       "      <td>0.006931</td>\n",
       "      <td>0.003346</td>\n",
       "      <td>0.002629</td>\n",
       "      <td>0.003585</td>\n",
       "      <td>NaN</td>\n",
       "      <td>NaN</td>\n",
       "      <td>NaN</td>\n",
       "      <td>NaN</td>\n",
       "      <td>NaN</td>\n",
       "      <td>NaN</td>\n",
       "      <td>NaN</td>\n",
       "    </tr>\n",
       "    <tr>\n",
       "      <th>2017-09</th>\n",
       "      <td>1.0</td>\n",
       "      <td>0.006778</td>\n",
       "      <td>0.005326</td>\n",
       "      <td>0.002905</td>\n",
       "      <td>NaN</td>\n",
       "      <td>NaN</td>\n",
       "      <td>NaN</td>\n",
       "      <td>NaN</td>\n",
       "      <td>NaN</td>\n",
       "      <td>NaN</td>\n",
       "      <td>NaN</td>\n",
       "      <td>NaN</td>\n",
       "    </tr>\n",
       "    <tr>\n",
       "      <th>2017-10</th>\n",
       "      <td>1.0</td>\n",
       "      <td>0.006935</td>\n",
       "      <td>0.002461</td>\n",
       "      <td>NaN</td>\n",
       "      <td>NaN</td>\n",
       "      <td>NaN</td>\n",
       "      <td>NaN</td>\n",
       "      <td>NaN</td>\n",
       "      <td>NaN</td>\n",
       "      <td>NaN</td>\n",
       "      <td>NaN</td>\n",
       "      <td>NaN</td>\n",
       "    </tr>\n",
       "    <tr>\n",
       "      <th>2017-11</th>\n",
       "      <td>1.0</td>\n",
       "      <td>0.005476</td>\n",
       "      <td>NaN</td>\n",
       "      <td>NaN</td>\n",
       "      <td>NaN</td>\n",
       "      <td>NaN</td>\n",
       "      <td>NaN</td>\n",
       "      <td>NaN</td>\n",
       "      <td>NaN</td>\n",
       "      <td>NaN</td>\n",
       "      <td>NaN</td>\n",
       "      <td>NaN</td>\n",
       "    </tr>\n",
       "    <tr>\n",
       "      <th>2017-12</th>\n",
       "      <td>1.0</td>\n",
       "      <td>NaN</td>\n",
       "      <td>NaN</td>\n",
       "      <td>NaN</td>\n",
       "      <td>NaN</td>\n",
       "      <td>NaN</td>\n",
       "      <td>NaN</td>\n",
       "      <td>NaN</td>\n",
       "      <td>NaN</td>\n",
       "      <td>NaN</td>\n",
       "      <td>NaN</td>\n",
       "      <td>NaN</td>\n",
       "    </tr>\n",
       "  </tbody>\n",
       "</table>\n",
       "</div>"
      ],
      "text/plain": [
       "period_number   0         1         2         3         4         5   \\\n",
       "cohort                                                                 \n",
       "2017-01        1.0  0.003922  0.002614  0.001307  0.003922  0.001307   \n",
       "2017-02        1.0  0.002283  0.002854  0.001142  0.003995  0.001142   \n",
       "2017-03        1.0  0.004932  0.003794  0.003794  0.003414  0.001517   \n",
       "2017-04        1.0  0.005950  0.002125  0.001700  0.003400  0.002550   \n",
       "2017-05        1.0  0.005006  0.005006  0.003893  0.003059  0.003337   \n",
       "2017-06        1.0  0.004779  0.003504  0.004141  0.002549  0.003823   \n",
       "2017-07        1.0  0.005135  0.003594  0.002567  0.002824  0.002054   \n",
       "2017-08        1.0  0.006931  0.003346  0.002629  0.003585       NaN   \n",
       "2017-09        1.0  0.006778  0.005326  0.002905       NaN       NaN   \n",
       "2017-10        1.0  0.006935  0.002461       NaN       NaN       NaN   \n",
       "2017-11        1.0  0.005476       NaN       NaN       NaN       NaN   \n",
       "2017-12        1.0       NaN       NaN       NaN       NaN       NaN   \n",
       "\n",
       "period_number        6         7         8         9         10        11  \n",
       "cohort                                                                     \n",
       "2017-01        0.005229  0.001307  0.001307       NaN  0.003922  0.001307  \n",
       "2017-02        0.002283  0.001712  0.001712  0.002283  0.001142       NaN  \n",
       "2017-03        0.001517  0.003035  0.003414  0.000759       NaN       NaN  \n",
       "2017-04        0.003400  0.002975  0.002975       NaN       NaN       NaN  \n",
       "2017-05        0.004171  0.001669       NaN       NaN       NaN       NaN  \n",
       "2017-06        0.003823       NaN       NaN       NaN       NaN       NaN  \n",
       "2017-07             NaN       NaN       NaN       NaN       NaN       NaN  \n",
       "2017-08             NaN       NaN       NaN       NaN       NaN       NaN  \n",
       "2017-09             NaN       NaN       NaN       NaN       NaN       NaN  \n",
       "2017-10             NaN       NaN       NaN       NaN       NaN       NaN  \n",
       "2017-11             NaN       NaN       NaN       NaN       NaN       NaN  \n",
       "2017-12             NaN       NaN       NaN       NaN       NaN       NaN  "
      ]
     },
     "execution_count": 141,
     "metadata": {},
     "output_type": "execute_result"
    }
   ],
   "source": [
    "retention_matrix"
   ]
  },
  {
   "cell_type": "code",
   "execution_count": 144,
   "metadata": {},
   "outputs": [
    {
     "data": {
      "image/png": "[encoded data removed]",
      "text/plain": [
       "<Figure size 936x576 with 3 Axes>"
      ]
     },
     "metadata": {},
     "output_type": "display_data"
    }
   ],
   "source": [
    "with sns.axes_style(\"white\"):\n",
    "    fig, ax = plt.subplots(1, 2, figsize=(13, 8), sharey=True, gridspec_kw={'width_ratios': [1, 11]})\n",
    "    \n",
    "    # retention matrix\n",
    "    sns.heatmap(retention_matrix, \n",
    "                mask=retention_matrix.isnull(), \n",
    "                annot=True, \n",
    "#                 fmt='.3f',\n",
    "                fmt='.2%', \n",
    "                cmap='RdYlGn', \n",
    "                ax=ax[1])\n",
    "    ax[1].set_title('Monthly Cohorts: User Retention', fontsize=16)\n",
    "    ax[1].set(xlabel='# of periods',\n",
    "              ylabel='')\n",
    "\n",
    "    # cohort size\n",
    "    cohort_size_df = pd.DataFrame(cohort_size).rename(columns={0: 'cohort_size'})\n",
    "    white_cmap = mcolors.ListedColormap(['white'])\n",
    "    sns.heatmap(cohort_size_df, \n",
    "                annot=True, \n",
    "                cbar=False, \n",
    "                fmt='g', \n",
    "                cmap=white_cmap, \n",
    "                ax=ax[0])\n",
    "\n",
    "    fig.tight_layout()"
   ]
  },
  {
   "cell_type": "markdown",
   "metadata": {},
   "source": [
    "получается июньская когорта имеет самый высокий ретеншн на третий месяц 0.41% "
   ]
  },
  {
   "cell_type": "code",
   "execution_count": null,
   "metadata": {},
   "outputs": [],
   "source": []
  },
  {
   "cell_type": "code",
   "execution_count": null,
   "metadata": {},
   "outputs": [],
   "source": []
  }
 ],
 "metadata": {
  "kernelspec": {
   "display_name": "Python 3",
   "language": "python",
   "name": "python3"
  },
  "language_info": {
   "codemirror_mode": {
    "name": "ipython",
    "version": 3
   },
   "file_extension": ".py",
   "mimetype": "text/x-python",
   "name": "python",
   "nbconvert_exporter": "python",
   "pygments_lexer": "ipython3",
   "version": "3.7.3"
  }
 },
 "nbformat": 4,
 "nbformat_minor": 4
}
