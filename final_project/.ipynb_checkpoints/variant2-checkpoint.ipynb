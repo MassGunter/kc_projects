{
 "cells": [
  {
   "cell_type": "code",
   "execution_count": 1,
   "metadata": {},
   "outputs": [],
   "source": [
    "import pandas as pd\n",
    "import numpy as np \n",
    "\n",
    "import scipy\n",
    "import scipy.stats as stats\n",
    "# from scipy.stats import tukey_hsd\n",
    "# from statsmodels.stats import multicomp\n",
    "# import statsmodels.api as sm\n",
    "# from statsmodels.formula.api import ols\n",
    "\n",
    "from scipy.stats import norm\n",
    "import matplotlib.pyplot as plt\n",
    "\n",
    "from tqdm.auto import tqdm\n",
    "\n",
    "plt.style.use('ggplot')\n",
    "import seaborn as sns"
   ]
  },
  {
   "cell_type": "code",
   "execution_count": 2,
   "metadata": {},
   "outputs": [],
   "source": [
    "# Функция вывода нескольких датафреймов сразу (не злоупотреблять)\n",
    "from IPython.display import display_html\n",
    "from itertools import chain, cycle\n",
    "\n",
    "\n",
    "def display_side_by_side(*args, titles=cycle([''])):\n",
    "    html_str = ''\n",
    "    for df, title in zip(args, chain(titles, cycle(['</br>']))):\n",
    "        html_str += '<th style=\"text-align:center\"><td style=\"vertical-align:top\">'\n",
    "        html_str += f'<h2>{title}</h2>'\n",
    "        html_str += df.to_html().replace('table', 'table style=\"display:inline\"')\n",
    "        html_str += '</td></th>'\n",
    "    display_html(html_str, raw=True)"
   ]
  },
  {
   "cell_type": "code",
   "execution_count": 3,
   "metadata": {},
   "outputs": [],
   "source": [
    "dir_files = '/mnt/HC_Volume_18315164/home-jupyter/jupyter-k-stojanov-21/final_project_data/{}'"
   ]
  },
  {
   "cell_type": "code",
   "execution_count": 4,
   "metadata": {},
   "outputs": [],
   "source": [
    "active_studs = pd.read_csv(dir_files.format(\"Проект_2_active_studs.csv\"))\n",
    "active_studs.name = 'active_studs'\n",
    "\n",
    "checks = pd.read_csv(dir_files.format(\"Проект_2_checks.csv\"), sep=';')\n",
    "checks.name = 'checks'\n",
    "\n",
    "group_add = pd.read_csv(dir_files.format(\"Проект_2_group_add.csv\"))\n",
    "group_add.name = 'group_add'\n",
    "\n",
    "groups = pd.read_csv(dir_files.format(\"Проект_2_groups.csv\"), sep=';')\n",
    "groups.name = 'groups'\n",
    "\n",
    "ab_res = checks.merge(groups, left_on=\"student_id\", right_on=\"id\")\n",
    "ab_res.name = 'a\\b results'"
   ]
  },
  {
   "cell_type": "markdown",
   "metadata": {},
   "source": [
    "# Подготовка:"
   ]
  },
  {
   "cell_type": "markdown",
   "metadata": {},
   "source": [
    "`groups.csv` - файл с информацией о принадлежности пользователя к контрольной или экспериментальной группе (А – контроль, B – целевая группа)   \n",
    "`groups_add.csv `- дополнительный файл с пользователями, который вам прислали спустя 2 дня после передачи данных  \n",
    "`active_studs.csv `- файл с информацией о пользователях, которые зашли на платформу в дни проведения эксперимента.   \n",
    "`checks.csv` - файл с информацией об оплатах пользователей в дни проведения эксперимента.   "
   ]
  },
  {
   "cell_type": "code",
   "execution_count": 5,
   "metadata": {
    "scrolled": false
   },
   "outputs": [
    {
     "data": {
      "text/html": [
       "<th style=\"text-align:center\"><td style=\"vertical-align:top\"><h2>active studs</h2><table style=\"display:inline\" border=\"1\" class=\"dataframe\">\n",
       "  <thead>\n",
       "    <tr style=\"text-align: right;\">\n",
       "      <th></th>\n",
       "      <th>student_id</th>\n",
       "    </tr>\n",
       "  </thead>\n",
       "  <tbody>\n",
       "    <tr>\n",
       "      <th>0</th>\n",
       "      <td>581585</td>\n",
       "    </tr>\n",
       "    <tr>\n",
       "      <th>1</th>\n",
       "      <td>5723133</td>\n",
       "    </tr>\n",
       "    <tr>\n",
       "      <th>2</th>\n",
       "      <td>3276743</td>\n",
       "    </tr>\n",
       "    <tr>\n",
       "      <th>3</th>\n",
       "      <td>4238589</td>\n",
       "    </tr>\n",
       "    <tr>\n",
       "      <th>4</th>\n",
       "      <td>4475369</td>\n",
       "    </tr>\n",
       "  </tbody>\n",
       "</table style=\"display:inline\"></td></th><th style=\"text-align:center\"><td style=\"vertical-align:top\"><h2>checks</h2><table style=\"display:inline\" border=\"1\" class=\"dataframe\">\n",
       "  <thead>\n",
       "    <tr style=\"text-align: right;\">\n",
       "      <th></th>\n",
       "      <th>student_id</th>\n",
       "      <th>rev</th>\n",
       "    </tr>\n",
       "  </thead>\n",
       "  <tbody>\n",
       "    <tr>\n",
       "      <th>0</th>\n",
       "      <td>1627</td>\n",
       "      <td>990.0</td>\n",
       "    </tr>\n",
       "    <tr>\n",
       "      <th>1</th>\n",
       "      <td>3185</td>\n",
       "      <td>690.0</td>\n",
       "    </tr>\n",
       "    <tr>\n",
       "      <th>2</th>\n",
       "      <td>25973</td>\n",
       "      <td>690.0</td>\n",
       "    </tr>\n",
       "    <tr>\n",
       "      <th>3</th>\n",
       "      <td>26280</td>\n",
       "      <td>690.0</td>\n",
       "    </tr>\n",
       "    <tr>\n",
       "      <th>4</th>\n",
       "      <td>100300</td>\n",
       "      <td>990.0</td>\n",
       "    </tr>\n",
       "  </tbody>\n",
       "</table style=\"display:inline\"></td></th><th style=\"text-align:center\"><td style=\"vertical-align:top\"><h2>group add</h2><table style=\"display:inline\" border=\"1\" class=\"dataframe\">\n",
       "  <thead>\n",
       "    <tr style=\"text-align: right;\">\n",
       "      <th></th>\n",
       "      <th>id</th>\n",
       "      <th>grp</th>\n",
       "    </tr>\n",
       "  </thead>\n",
       "  <tbody>\n",
       "    <tr>\n",
       "      <th>0</th>\n",
       "      <td>5694584</td>\n",
       "      <td>B</td>\n",
       "    </tr>\n",
       "    <tr>\n",
       "      <th>1</th>\n",
       "      <td>5694830</td>\n",
       "      <td>B</td>\n",
       "    </tr>\n",
       "    <tr>\n",
       "      <th>2</th>\n",
       "      <td>5695057</td>\n",
       "      <td>B</td>\n",
       "    </tr>\n",
       "    <tr>\n",
       "      <th>3</th>\n",
       "      <td>5698872</td>\n",
       "      <td>B</td>\n",
       "    </tr>\n",
       "    <tr>\n",
       "      <th>4</th>\n",
       "      <td>5699067</td>\n",
       "      <td>B</td>\n",
       "    </tr>\n",
       "  </tbody>\n",
       "</table style=\"display:inline\"></td></th><th style=\"text-align:center\"><td style=\"vertical-align:top\"><h2>groups</h2><table style=\"display:inline\" border=\"1\" class=\"dataframe\">\n",
       "  <thead>\n",
       "    <tr style=\"text-align: right;\">\n",
       "      <th></th>\n",
       "      <th>id</th>\n",
       "      <th>grp</th>\n",
       "    </tr>\n",
       "  </thead>\n",
       "  <tbody>\n",
       "    <tr>\n",
       "      <th>0</th>\n",
       "      <td>1489</td>\n",
       "      <td>B</td>\n",
       "    </tr>\n",
       "    <tr>\n",
       "      <th>1</th>\n",
       "      <td>1627</td>\n",
       "      <td>A</td>\n",
       "    </tr>\n",
       "    <tr>\n",
       "      <th>2</th>\n",
       "      <td>1768</td>\n",
       "      <td>B</td>\n",
       "    </tr>\n",
       "    <tr>\n",
       "      <th>3</th>\n",
       "      <td>1783</td>\n",
       "      <td>B</td>\n",
       "    </tr>\n",
       "    <tr>\n",
       "      <th>4</th>\n",
       "      <td>1794</td>\n",
       "      <td>A</td>\n",
       "    </tr>\n",
       "  </tbody>\n",
       "</table style=\"display:inline\"></td></th>"
      ]
     },
     "metadata": {},
     "output_type": "display_data"
    },
    {
     "name": "stdout",
     "output_type": "stream",
     "text": [
      "active_studs (8341, 1) дупликаты: 0\n",
      "checks (541, 2) дупликаты: 0\n",
      "group_add (92, 2) дупликаты: 0\n",
      "groups (74484, 2) дупликаты: 0\n",
      "a\b results (540, 4) дупликаты: 0\n"
     ]
    }
   ],
   "source": [
    "display_side_by_side(\n",
    "    active_studs.head(5),\n",
    "    checks.head(5),\n",
    "    group_add.head(5),\n",
    "    groups.head(5),\n",
    "    titles=['active studs', 'checks', 'group add', 'groups'])\n",
    "\n",
    "for i in active_studs, checks, group_add, groups, ab_res: \n",
    "    print(i.name, i.shape, \"дупликаты:\", i.duplicated().sum())\n",
    "    \n",
    "# for i in active_studs, checks, group_add, groups, ab_res: \n",
    "#     print(\"NaN:\", i.isna().sum())    \n",
    "\n",
    "# закомментил кусок кода, так как его вывод отображается некрасиво NaN'ов нет"
   ]
  },
  {
   "cell_type": "markdown",
   "metadata": {},
   "source": [
    "Почему такая большая разница в размерах датафреймов?   \n",
    "Разберёмся, смотрим какие где есть потери:"
   ]
  },
  {
   "cell_type": "code",
   "execution_count": 6,
   "metadata": {
    "scrolled": true
   },
   "outputs": [
    {
     "name": "stdout",
     "output_type": "stream",
     "text": [
      "act_stud_grp (8328, 3) дупликаты: 0\n",
      "act_stud_grp_add (13, 3) дупликаты: 0\n",
      "act_stud_checks (392, 2) дупликаты: 0\n",
      "checks_grp_add (1, 4) дупликаты: 0\n"
     ]
    }
   ],
   "source": [
    "act_stud_grp = active_studs.merge(groups, left_on=\"student_id\", right_on='id', how='inner')\n",
    "act_stud_grp.name = 'act_stud_grp'\n",
    "\n",
    "act_stud_grp_add = active_studs.merge(group_add, left_on=\"student_id\", right_on='id', how='inner')\n",
    "act_stud_grp_add.name = 'act_stud_grp_add'\n",
    "\n",
    "act_stud_checks = active_studs.merge(checks, on=\"student_id\", how='inner')\n",
    "act_stud_checks.name = 'act_stud_checks'\n",
    "\n",
    "checks_grp_add = checks.merge(group_add, left_on=\"student_id\", right_on='id', how='inner')\n",
    "checks_grp_add.name = 'checks_grp_add'\n",
    "\n",
    "for i in act_stud_grp, act_stud_grp_add, act_stud_checks, checks_grp_add: \n",
    "    print(i.name, i.shape,\n",
    "          \"дупликаты:\", i.duplicated().sum())\n",
    "    \n",
    "# for i in act_stud_grp, act_stud_grp_add, act_stud_checks, checks_grp_add: \n",
    "#     print(\"NaN:\", i.isna().sum())\n",
    "\n",
    "# закомментил кусок кода, так как его вывод отображается некрасиво NaN'ов нет"
   ]
  },
  {
   "cell_type": "markdown",
   "metadata": {},
   "source": [
    "непонятно зачем нужно доп данные.так как они нормально не мерджаться ни с чеками, ни с активными студентами."
   ]
  },
  {
   "cell_type": "markdown",
   "metadata": {},
   "source": [
    "Ок, тогда у нас есть следующее: начали проводить эксперимент, разибили всех пользователей на контроль/опыт: "
   ]
  },
  {
   "cell_type": "code",
   "execution_count": 7,
   "metadata": {
    "scrolled": true
   },
   "outputs": [
    {
     "data": {
      "text/plain": [
       "B    59813\n",
       "A    14671\n",
       "Name: grp, dtype: int64"
      ]
     },
     "execution_count": 7,
     "metadata": {},
     "output_type": "execute_result"
    }
   ],
   "source": [
    "groups.grp.value_counts()"
   ]
  },
  {
   "cell_type": "markdown",
   "metadata": {},
   "source": [
    "Разбили криво (Результатов А/А тестов у нас нет) "
   ]
  },
  {
   "cell_type": "markdown",
   "metadata": {},
   "source": [
    "потом посмотрели какие пользователи заходили на платформу вовремя теста: "
   ]
  },
  {
   "cell_type": "code",
   "execution_count": 8,
   "metadata": {
    "scrolled": true
   },
   "outputs": [
    {
     "data": {
      "text/plain": [
       "student_id    8341\n",
       "dtype: int64"
      ]
     },
     "execution_count": 8,
     "metadata": {},
     "output_type": "execute_result"
    }
   ],
   "source": [
    "active_studs.nunique()"
   ]
  },
  {
   "cell_type": "code",
   "execution_count": 9,
   "metadata": {
    "scrolled": false
   },
   "outputs": [
    {
     "data": {
      "text/plain": [
       "B    6793\n",
       "A    1535\n",
       "Name: grp, dtype: int64"
      ]
     },
     "execution_count": 9,
     "metadata": {},
     "output_type": "execute_result"
    }
   ],
   "source": [
    "act_stud_grp.grp.value_counts()"
   ]
  },
  {
   "cell_type": "markdown",
   "metadata": {},
   "source": [
    "Собрали данные по покупкам: "
   ]
  },
  {
   "cell_type": "code",
   "execution_count": 10,
   "metadata": {
    "scrolled": false
   },
   "outputs": [
    {
     "data": {
      "text/html": [
       "<div>\n",
       "<style scoped>\n",
       "    .dataframe tbody tr th:only-of-type {\n",
       "        vertical-align: middle;\n",
       "    }\n",
       "\n",
       "    .dataframe tbody tr th {\n",
       "        vertical-align: top;\n",
       "    }\n",
       "\n",
       "    .dataframe thead tr th {\n",
       "        text-align: left;\n",
       "    }\n",
       "</style>\n",
       "<table border=\"1\" class=\"dataframe\">\n",
       "  <thead>\n",
       "    <tr>\n",
       "      <th></th>\n",
       "      <th>grp</th>\n",
       "      <th colspan=\"4\" halign=\"left\">rev</th>\n",
       "    </tr>\n",
       "    <tr>\n",
       "      <th></th>\n",
       "      <th></th>\n",
       "      <th>count</th>\n",
       "      <th>mean</th>\n",
       "      <th>median</th>\n",
       "      <th>&lt;lambda_0&gt;</th>\n",
       "    </tr>\n",
       "  </thead>\n",
       "  <tbody>\n",
       "    <tr>\n",
       "      <th>0</th>\n",
       "      <td>A</td>\n",
       "      <td>107</td>\n",
       "      <td>860.710280</td>\n",
       "      <td>690.0</td>\n",
       "      <td>290.0</td>\n",
       "    </tr>\n",
       "    <tr>\n",
       "      <th>1</th>\n",
       "      <td>B</td>\n",
       "      <td>433</td>\n",
       "      <td>1106.997699</td>\n",
       "      <td>880.0</td>\n",
       "      <td>1900.0</td>\n",
       "    </tr>\n",
       "  </tbody>\n",
       "</table>\n",
       "</div>"
      ],
      "text/plain": [
       "  grp   rev                               \n",
       "      count         mean median <lambda_0>\n",
       "0   A   107   860.710280  690.0      290.0\n",
       "1   B   433  1106.997699  880.0     1900.0"
      ]
     },
     "execution_count": 10,
     "metadata": {},
     "output_type": "execute_result"
    }
   ],
   "source": [
    "ab_res.groupby(\"grp\", as_index=False).agg({\"rev\": [\"count\", \"mean\", \"median\", lambda x:x.value_counts().index[0]]})"
   ]
  },
  {
   "cell_type": "markdown",
   "metadata": {},
   "source": [
    "При том умудрились найти лишних покупателей, которых не было среди активных студентов"
   ]
  },
  {
   "cell_type": "code",
   "execution_count": 11,
   "metadata": {
    "scrolled": true
   },
   "outputs": [
    {
     "data": {
      "text/html": [
       "<div>\n",
       "<style scoped>\n",
       "    .dataframe tbody tr th:only-of-type {\n",
       "        vertical-align: middle;\n",
       "    }\n",
       "\n",
       "    .dataframe tbody tr th {\n",
       "        vertical-align: top;\n",
       "    }\n",
       "\n",
       "    .dataframe thead tr th {\n",
       "        text-align: left;\n",
       "    }\n",
       "</style>\n",
       "<table border=\"1\" class=\"dataframe\">\n",
       "  <thead>\n",
       "    <tr>\n",
       "      <th></th>\n",
       "      <th>grp</th>\n",
       "      <th colspan=\"4\" halign=\"left\">rev</th>\n",
       "    </tr>\n",
       "    <tr>\n",
       "      <th></th>\n",
       "      <th></th>\n",
       "      <th>count</th>\n",
       "      <th>mean</th>\n",
       "      <th>median</th>\n",
       "      <th>&lt;lambda_0&gt;</th>\n",
       "    </tr>\n",
       "  </thead>\n",
       "  <tbody>\n",
       "    <tr>\n",
       "      <th>0</th>\n",
       "      <td>A</td>\n",
       "      <td>78</td>\n",
       "      <td>933.589744</td>\n",
       "      <td>585.0</td>\n",
       "      <td>290.0</td>\n",
       "    </tr>\n",
       "    <tr>\n",
       "      <th>1</th>\n",
       "      <td>B</td>\n",
       "      <td>313</td>\n",
       "      <td>1255.827487</td>\n",
       "      <td>1140.0</td>\n",
       "      <td>1900.0</td>\n",
       "    </tr>\n",
       "  </tbody>\n",
       "</table>\n",
       "</div>"
      ],
      "text/plain": [
       "  grp   rev                                \n",
       "      count         mean  median <lambda_0>\n",
       "0   A    78   933.589744   585.0      290.0\n",
       "1   B   313  1255.827487  1140.0     1900.0"
      ]
     },
     "execution_count": 11,
     "metadata": {},
     "output_type": "execute_result"
    }
   ],
   "source": [
    "ab_res_act = ab_res.merge(active_studs, on=\"student_id\")\n",
    "\n",
    "ab_res_act.groupby(\"grp\", as_index=False) \\\n",
    "          .agg({\"rev\": [\"count\", \"mean\", \"median\", lambda x:x.value_counts().index[0]]})"
   ]
  },
  {
   "cell_type": "markdown",
   "metadata": {},
   "source": [
    "В данных, что пришли позже их тоже нет:  \n",
    "здесь всего один пользователь совершивший покупку"
   ]
  },
  {
   "cell_type": "code",
   "execution_count": 12,
   "metadata": {
    "scrolled": true
   },
   "outputs": [
    {
     "data": {
      "text/html": [
       "<div>\n",
       "<style scoped>\n",
       "    .dataframe tbody tr th:only-of-type {\n",
       "        vertical-align: middle;\n",
       "    }\n",
       "\n",
       "    .dataframe tbody tr th {\n",
       "        vertical-align: top;\n",
       "    }\n",
       "\n",
       "    .dataframe thead th {\n",
       "        text-align: right;\n",
       "    }\n",
       "</style>\n",
       "<table border=\"1\" class=\"dataframe\">\n",
       "  <thead>\n",
       "    <tr style=\"text-align: right;\">\n",
       "      <th></th>\n",
       "      <th>student_id</th>\n",
       "      <th>rev</th>\n",
       "      <th>id</th>\n",
       "      <th>grp</th>\n",
       "    </tr>\n",
       "  </thead>\n",
       "  <tbody>\n",
       "    <tr>\n",
       "      <th>0</th>\n",
       "      <td>5740903</td>\n",
       "      <td>1900.0</td>\n",
       "      <td>5740903</td>\n",
       "      <td>B</td>\n",
       "    </tr>\n",
       "  </tbody>\n",
       "</table>\n",
       "</div>"
      ],
      "text/plain": [
       "   student_id     rev       id grp\n",
       "0     5740903  1900.0  5740903   B"
      ]
     },
     "execution_count": 12,
     "metadata": {},
     "output_type": "execute_result"
    }
   ],
   "source": [
    "checks.merge(group_add, left_on=\"student_id\", right_on=\"id\")"
   ]
  },
  {
   "cell_type": "markdown",
   "metadata": {},
   "source": [
    "Вообще очень странно, то как поставлен эксперимент.   \n",
    "Почему сплит пользователей сделали до эксперимента?  \n",
    "Почему не сплитовали пользователей на лету?  \n",
    "Почему группы не равны по размерам?"
   ]
  },
  {
   "cell_type": "markdown",
   "metadata": {},
   "source": [
    "#### Выберем те данные, которые пустим в анализ:"
   ]
  },
  {
   "cell_type": "markdown",
   "metadata": {},
   "source": [
    "Берем всех активных пользователей, а не только тех кто совершил покупку (плюс тех, что прислали позже), а неактивных убираем:   "
   ]
  },
  {
   "cell_type": "code",
   "execution_count": 13,
   "metadata": {},
   "outputs": [],
   "source": [
    "all_group = pd.concat([groups, group_add], ignore_index=True)"
   ]
  },
  {
   "cell_type": "code",
   "execution_count": 14,
   "metadata": {
    "scrolled": true
   },
   "outputs": [
    {
     "data": {
      "text/html": [
       "<div>\n",
       "<style scoped>\n",
       "    .dataframe tbody tr th:only-of-type {\n",
       "        vertical-align: middle;\n",
       "    }\n",
       "\n",
       "    .dataframe tbody tr th {\n",
       "        vertical-align: top;\n",
       "    }\n",
       "\n",
       "    .dataframe thead th {\n",
       "        text-align: right;\n",
       "    }\n",
       "</style>\n",
       "<table border=\"1\" class=\"dataframe\">\n",
       "  <thead>\n",
       "    <tr style=\"text-align: right;\">\n",
       "      <th></th>\n",
       "      <th>student_id</th>\n",
       "      <th>id</th>\n",
       "      <th>grp</th>\n",
       "      <th>rev</th>\n",
       "    </tr>\n",
       "  </thead>\n",
       "  <tbody>\n",
       "    <tr>\n",
       "      <th>0</th>\n",
       "      <td>581585</td>\n",
       "      <td>581585</td>\n",
       "      <td>A</td>\n",
       "      <td>NaN</td>\n",
       "    </tr>\n",
       "    <tr>\n",
       "      <th>1</th>\n",
       "      <td>5723133</td>\n",
       "      <td>5723133</td>\n",
       "      <td>A</td>\n",
       "      <td>NaN</td>\n",
       "    </tr>\n",
       "    <tr>\n",
       "      <th>2</th>\n",
       "      <td>3276743</td>\n",
       "      <td>3276743</td>\n",
       "      <td>B</td>\n",
       "      <td>NaN</td>\n",
       "    </tr>\n",
       "    <tr>\n",
       "      <th>3</th>\n",
       "      <td>4238589</td>\n",
       "      <td>4238589</td>\n",
       "      <td>A</td>\n",
       "      <td>NaN</td>\n",
       "    </tr>\n",
       "    <tr>\n",
       "      <th>4</th>\n",
       "      <td>4475369</td>\n",
       "      <td>4475369</td>\n",
       "      <td>B</td>\n",
       "      <td>NaN</td>\n",
       "    </tr>\n",
       "  </tbody>\n",
       "</table>\n",
       "</div>"
      ],
      "text/plain": [
       "   student_id       id grp  rev\n",
       "0      581585   581585   A  NaN\n",
       "1     5723133  5723133   A  NaN\n",
       "2     3276743  3276743   B  NaN\n",
       "3     4238589  4238589   A  NaN\n",
       "4     4475369  4475369   B  NaN"
      ]
     },
     "execution_count": 14,
     "metadata": {},
     "output_type": "execute_result"
    }
   ],
   "source": [
    "df = active_studs.merge(all_group, left_on='student_id', right_on='id') \\\n",
    "    .merge(checks, on='student_id', how='left')\n",
    "df.head()"
   ]
  },
  {
   "cell_type": "code",
   "execution_count": 15,
   "metadata": {
    "scrolled": false
   },
   "outputs": [
    {
     "data": {
      "text/plain": [
       "(8341, 4)"
      ]
     },
     "execution_count": 15,
     "metadata": {},
     "output_type": "execute_result"
    }
   ],
   "source": [
    "df.shape"
   ]
  },
  {
   "cell_type": "code",
   "execution_count": 16,
   "metadata": {},
   "outputs": [
    {
     "data": {
      "text/plain": [
       "11.2"
      ]
     },
     "execution_count": 16,
     "metadata": {},
     "output_type": "execute_result"
    }
   ],
   "source": [
    "np.round((8341 / 74484) * 100, 2)"
   ]
  },
  {
   "cell_type": "markdown",
   "metadata": {},
   "source": [
    "Итого эксперимент был проведен на 11% от *всей?* выборки"
   ]
  },
  {
   "cell_type": "code",
   "execution_count": 17,
   "metadata": {},
   "outputs": [
    {
     "data": {
      "text/plain": [
       "student_id       0\n",
       "id               0\n",
       "grp              0\n",
       "rev           7949\n",
       "dtype: int64"
      ]
     },
     "execution_count": 17,
     "metadata": {},
     "output_type": "execute_result"
    }
   ],
   "source": [
    "df.isna().sum()"
   ]
  },
  {
   "cell_type": "code",
   "execution_count": 18,
   "metadata": {},
   "outputs": [
    {
     "data": {
      "text/plain": [
       "0"
      ]
     },
     "execution_count": 18,
     "metadata": {},
     "output_type": "execute_result"
    }
   ],
   "source": [
    "df.duplicated().sum()"
   ]
  },
  {
   "cell_type": "markdown",
   "metadata": {},
   "source": [
    "# Начало анализа"
   ]
  },
  {
   "cell_type": "markdown",
   "metadata": {},
   "source": [
    "### Описательные статистики:"
   ]
  },
  {
   "cell_type": "code",
   "execution_count": 19,
   "metadata": {
    "scrolled": false
   },
   "outputs": [
    {
     "data": {
      "text/html": [
       "<div>\n",
       "<style scoped>\n",
       "    .dataframe tbody tr th:only-of-type {\n",
       "        vertical-align: middle;\n",
       "    }\n",
       "\n",
       "    .dataframe tbody tr th {\n",
       "        vertical-align: top;\n",
       "    }\n",
       "\n",
       "    .dataframe thead tr th {\n",
       "        text-align: left;\n",
       "    }\n",
       "</style>\n",
       "<table border=\"1\" class=\"dataframe\">\n",
       "  <thead>\n",
       "    <tr>\n",
       "      <th></th>\n",
       "      <th>grp</th>\n",
       "      <th colspan=\"9\" halign=\"left\">rev</th>\n",
       "    </tr>\n",
       "    <tr>\n",
       "      <th></th>\n",
       "      <th></th>\n",
       "      <th>size</th>\n",
       "      <th>count</th>\n",
       "      <th>min</th>\n",
       "      <th>max</th>\n",
       "      <th>mean</th>\n",
       "      <th>sum</th>\n",
       "      <th>std</th>\n",
       "      <th>median</th>\n",
       "      <th>&lt;lambda_0&gt;</th>\n",
       "    </tr>\n",
       "  </thead>\n",
       "  <tbody>\n",
       "    <tr>\n",
       "      <th>0</th>\n",
       "      <td>A</td>\n",
       "      <td>1538</td>\n",
       "      <td>78</td>\n",
       "      <td>199.0</td>\n",
       "      <td>3660.0</td>\n",
       "      <td>933.59</td>\n",
       "      <td>72820.0</td>\n",
       "      <td>919.93</td>\n",
       "      <td>585.0</td>\n",
       "      <td>290.0</td>\n",
       "    </tr>\n",
       "    <tr>\n",
       "      <th>1</th>\n",
       "      <td>B</td>\n",
       "      <td>6803</td>\n",
       "      <td>314</td>\n",
       "      <td>199.0</td>\n",
       "      <td>4650.0</td>\n",
       "      <td>1257.88</td>\n",
       "      <td>394974.0</td>\n",
       "      <td>790.86</td>\n",
       "      <td>1140.0</td>\n",
       "      <td>1900.0</td>\n",
       "    </tr>\n",
       "  </tbody>\n",
       "</table>\n",
       "</div>"
      ],
      "text/plain": [
       "  grp   rev                                                                   \n",
       "       size count    min     max     mean       sum     std  median <lambda_0>\n",
       "0   A  1538    78  199.0  3660.0   933.59   72820.0  919.93   585.0      290.0\n",
       "1   B  6803   314  199.0  4650.0  1257.88  394974.0  790.86  1140.0     1900.0"
      ]
     },
     "execution_count": 19,
     "metadata": {},
     "output_type": "execute_result"
    }
   ],
   "source": [
    "sum_stat = df.groupby(\"grp\", as_index=False) \\\n",
    "             .agg({\"rev\": \n",
    "                   [\"size\", \"count\", \"min\", \"max\",\n",
    "                    \"mean\", \"sum\", \"std\", \"median\",\n",
    "                  lambda x:x.value_counts().index[0]]}) \\\n",
    "             .round(2) \n",
    "sum_stat"
   ]
  },
  {
   "cell_type": "code",
   "execution_count": 20,
   "metadata": {
    "scrolled": true
   },
   "outputs": [
    {
     "data": {
      "text/plain": [
       "MultiIndex([('grp',           ''),\n",
       "            ('rev',       'size'),\n",
       "            ('rev',      'count'),\n",
       "            ('rev',        'min'),\n",
       "            ('rev',        'max'),\n",
       "            ('rev',       'mean'),\n",
       "            ('rev',        'sum'),\n",
       "            ('rev',        'std'),\n",
       "            ('rev',     'median'),\n",
       "            ('rev', '<lambda_0>')],\n",
       "           )"
      ]
     },
     "execution_count": 20,
     "metadata": {},
     "output_type": "execute_result"
    }
   ],
   "source": [
    "sum_stat.columns"
   ]
  },
  {
   "cell_type": "code",
   "execution_count": 21,
   "metadata": {},
   "outputs": [
    {
     "data": {
      "text/html": [
       "<div>\n",
       "<style scoped>\n",
       "    .dataframe tbody tr th:only-of-type {\n",
       "        vertical-align: middle;\n",
       "    }\n",
       "\n",
       "    .dataframe tbody tr th {\n",
       "        vertical-align: top;\n",
       "    }\n",
       "\n",
       "    .dataframe thead th {\n",
       "        text-align: right;\n",
       "    }\n",
       "</style>\n",
       "<table border=\"1\" class=\"dataframe\">\n",
       "  <thead>\n",
       "    <tr style=\"text-align: right;\">\n",
       "      <th></th>\n",
       "      <th>grp</th>\n",
       "      <th>size</th>\n",
       "      <th>count</th>\n",
       "      <th>min</th>\n",
       "      <th>max</th>\n",
       "      <th>mean</th>\n",
       "      <th>sum</th>\n",
       "      <th>std</th>\n",
       "      <th>median</th>\n",
       "      <th>mode</th>\n",
       "    </tr>\n",
       "  </thead>\n",
       "  <tbody>\n",
       "    <tr>\n",
       "      <th>0</th>\n",
       "      <td>A</td>\n",
       "      <td>1538</td>\n",
       "      <td>78</td>\n",
       "      <td>199.0</td>\n",
       "      <td>3660.0</td>\n",
       "      <td>933.59</td>\n",
       "      <td>72820.0</td>\n",
       "      <td>919.93</td>\n",
       "      <td>585.0</td>\n",
       "      <td>290.0</td>\n",
       "    </tr>\n",
       "    <tr>\n",
       "      <th>1</th>\n",
       "      <td>B</td>\n",
       "      <td>6803</td>\n",
       "      <td>314</td>\n",
       "      <td>199.0</td>\n",
       "      <td>4650.0</td>\n",
       "      <td>1257.88</td>\n",
       "      <td>394974.0</td>\n",
       "      <td>790.86</td>\n",
       "      <td>1140.0</td>\n",
       "      <td>1900.0</td>\n",
       "    </tr>\n",
       "  </tbody>\n",
       "</table>\n",
       "</div>"
      ],
      "text/plain": [
       "  grp  size  count    min     max     mean       sum     std  median    mode\n",
       "0   A  1538     78  199.0  3660.0   933.59   72820.0  919.93   585.0   290.0\n",
       "1   B  6803    314  199.0  4650.0  1257.88  394974.0  790.86  1140.0  1900.0"
      ]
     },
     "execution_count": 21,
     "metadata": {},
     "output_type": "execute_result"
    }
   ],
   "source": [
    "# Переименуем колонки, так будет проще:\n",
    "sum_stat.columns = [\"grp\", \"size\", \"count\", \"min\", \"max\", \"mean\", \"sum\", \"std\", \"median\", \"mode\"]\n",
    "sum_stat"
   ]
  },
  {
   "cell_type": "markdown",
   "metadata": {},
   "source": [
    "Что будем сравнивать?  \n",
    "Средний чек,  \n",
    "Конверсию CR"
   ]
  },
  {
   "cell_type": "code",
   "execution_count": 22,
   "metadata": {
    "scrolled": false
   },
   "outputs": [
    {
     "data": {
      "text/html": [
       "<div>\n",
       "<style scoped>\n",
       "    .dataframe tbody tr th:only-of-type {\n",
       "        vertical-align: middle;\n",
       "    }\n",
       "\n",
       "    .dataframe tbody tr th {\n",
       "        vertical-align: top;\n",
       "    }\n",
       "\n",
       "    .dataframe thead th {\n",
       "        text-align: right;\n",
       "    }\n",
       "</style>\n",
       "<table border=\"1\" class=\"dataframe\">\n",
       "  <thead>\n",
       "    <tr style=\"text-align: right;\">\n",
       "      <th></th>\n",
       "      <th>grp</th>\n",
       "      <th>size</th>\n",
       "      <th>count</th>\n",
       "      <th>min</th>\n",
       "      <th>max</th>\n",
       "      <th>mean</th>\n",
       "      <th>sum</th>\n",
       "      <th>std</th>\n",
       "      <th>median</th>\n",
       "      <th>mode</th>\n",
       "      <th>cr</th>\n",
       "    </tr>\n",
       "  </thead>\n",
       "  <tbody>\n",
       "    <tr>\n",
       "      <th>0</th>\n",
       "      <td>A</td>\n",
       "      <td>1538</td>\n",
       "      <td>78</td>\n",
       "      <td>199.0</td>\n",
       "      <td>3660.0</td>\n",
       "      <td>933.59</td>\n",
       "      <td>72820.0</td>\n",
       "      <td>919.93</td>\n",
       "      <td>585.0</td>\n",
       "      <td>290.0</td>\n",
       "      <td>5.07</td>\n",
       "    </tr>\n",
       "    <tr>\n",
       "      <th>1</th>\n",
       "      <td>B</td>\n",
       "      <td>6803</td>\n",
       "      <td>314</td>\n",
       "      <td>199.0</td>\n",
       "      <td>4650.0</td>\n",
       "      <td>1257.88</td>\n",
       "      <td>394974.0</td>\n",
       "      <td>790.86</td>\n",
       "      <td>1140.0</td>\n",
       "      <td>1900.0</td>\n",
       "      <td>4.62</td>\n",
       "    </tr>\n",
       "  </tbody>\n",
       "</table>\n",
       "</div>"
      ],
      "text/plain": [
       "  grp  size  count    min     max     mean       sum     std  median    mode  \\\n",
       "0   A  1538     78  199.0  3660.0   933.59   72820.0  919.93   585.0   290.0   \n",
       "1   B  6803    314  199.0  4650.0  1257.88  394974.0  790.86  1140.0  1900.0   \n",
       "\n",
       "     cr  \n",
       "0  5.07  \n",
       "1  4.62  "
      ]
     },
     "execution_count": 22,
     "metadata": {},
     "output_type": "execute_result"
    }
   ],
   "source": [
    "# Конверсия: \n",
    "sum_stat['cr'] = round(sum_stat[\"count\"] / sum_stat[\"size\"] * 100, 2)\n",
    "sum_stat"
   ]
  },
  {
   "cell_type": "code",
   "execution_count": 23,
   "metadata": {
    "scrolled": true
   },
   "outputs": [
    {
     "data": {
      "text/html": [
       "<div>\n",
       "<style scoped>\n",
       "    .dataframe tbody tr th:only-of-type {\n",
       "        vertical-align: middle;\n",
       "    }\n",
       "\n",
       "    .dataframe tbody tr th {\n",
       "        vertical-align: top;\n",
       "    }\n",
       "\n",
       "    .dataframe thead th {\n",
       "        text-align: right;\n",
       "    }\n",
       "</style>\n",
       "<table border=\"1\" class=\"dataframe\">\n",
       "  <thead>\n",
       "    <tr style=\"text-align: right;\">\n",
       "      <th></th>\n",
       "      <th>grp</th>\n",
       "      <th>size</th>\n",
       "      <th>count</th>\n",
       "      <th>min</th>\n",
       "      <th>max</th>\n",
       "      <th>mean</th>\n",
       "      <th>sum</th>\n",
       "      <th>std</th>\n",
       "      <th>median</th>\n",
       "      <th>mode</th>\n",
       "      <th>cr</th>\n",
       "      <th>arpu</th>\n",
       "    </tr>\n",
       "  </thead>\n",
       "  <tbody>\n",
       "    <tr>\n",
       "      <th>0</th>\n",
       "      <td>A</td>\n",
       "      <td>1538</td>\n",
       "      <td>78</td>\n",
       "      <td>199.0</td>\n",
       "      <td>3660.0</td>\n",
       "      <td>933.59</td>\n",
       "      <td>72820.0</td>\n",
       "      <td>919.93</td>\n",
       "      <td>585.0</td>\n",
       "      <td>290.0</td>\n",
       "      <td>5.07</td>\n",
       "      <td>47.347204</td>\n",
       "    </tr>\n",
       "    <tr>\n",
       "      <th>1</th>\n",
       "      <td>B</td>\n",
       "      <td>6803</td>\n",
       "      <td>314</td>\n",
       "      <td>199.0</td>\n",
       "      <td>4650.0</td>\n",
       "      <td>1257.88</td>\n",
       "      <td>394974.0</td>\n",
       "      <td>790.86</td>\n",
       "      <td>1140.0</td>\n",
       "      <td>1900.0</td>\n",
       "      <td>4.62</td>\n",
       "      <td>58.058798</td>\n",
       "    </tr>\n",
       "  </tbody>\n",
       "</table>\n",
       "</div>"
      ],
      "text/plain": [
       "  grp  size  count    min     max     mean       sum     std  median    mode  \\\n",
       "0   A  1538     78  199.0  3660.0   933.59   72820.0  919.93   585.0   290.0   \n",
       "1   B  6803    314  199.0  4650.0  1257.88  394974.0  790.86  1140.0  1900.0   \n",
       "\n",
       "     cr       arpu  \n",
       "0  5.07  47.347204  \n",
       "1  4.62  58.058798  "
      ]
     },
     "execution_count": 23,
     "metadata": {},
     "output_type": "execute_result"
    }
   ],
   "source": [
    "# ARPU\n",
    "sum_stat['arpu'] = sum_stat['sum'] / sum_stat['size']\n",
    "sum_stat"
   ]
  },
  {
   "cell_type": "markdown",
   "metadata": {},
   "source": [
    "### Тест на гомогенность дисперсий   \n",
    "Результат: **гомогенны**"
   ]
  },
  {
   "cell_type": "code",
   "execution_count": 24,
   "metadata": {
    "scrolled": true
   },
   "outputs": [
    {
     "data": {
      "text/plain": [
       "LeveneResult(statistic=3.0756816999816055, pvalue=0.08025675761347022)"
      ]
     },
     "execution_count": 24,
     "metadata": {},
     "output_type": "execute_result"
    }
   ],
   "source": [
    "scipy.stats.levene(df.query(\"grp == 'A' & rev != 'NaN'\").rev,\n",
    "                   df.query(\"grp == 'B' & rev != 'Nan'\").rev)\n"
   ]
  },
  {
   "cell_type": "markdown",
   "metadata": {},
   "source": [
    "### Тест Шапиро-Уилка (на нормальность распределения)\n",
    "Результат: **Отличаются от нормального распределения**"
   ]
  },
  {
   "cell_type": "code",
   "execution_count": 25,
   "metadata": {
    "scrolled": true
   },
   "outputs": [
    {
     "name": "stdout",
     "output_type": "stream",
     "text": [
      "ShapiroResult(statistic=0.7353236079216003, pvalue=1.4986822893803264e-10)\n"
     ]
    }
   ],
   "source": [
    "print(scipy.stats.shapiro(df.query(\"grp == 'A' & rev != 'NaN'\")['rev'].sample(78, random_state=17)))"
   ]
  },
  {
   "cell_type": "code",
   "execution_count": 26,
   "metadata": {},
   "outputs": [
    {
     "name": "stdout",
     "output_type": "stream",
     "text": [
      "ShapiroResult(statistic=0.8547235727310181, pvalue=1.5437024585965894e-16)\n"
     ]
    }
   ],
   "source": [
    "print(scipy.stats.shapiro(df.query(\"grp == 'B' & rev != 'NaN'\")['rev'].sample(314, random_state=17)))"
   ]
  },
  {
   "cell_type": "code",
   "execution_count": 27,
   "metadata": {
    "scrolled": false
   },
   "outputs": [
    {
     "data": {
      "text/plain": [
       "<matplotlib.axes._subplots.AxesSubplot at 0x7fbd4c859e80>"
      ]
     },
     "execution_count": 27,
     "metadata": {},
     "output_type": "execute_result"
    },
    {
     "data": {
      "image/png": "[encoded data removed]",
      "text/plain": [
       "<Figure size 432x288 with 1 Axes>"
      ]
     },
     "metadata": {},
     "output_type": "display_data"
    }
   ],
   "source": [
    "df.query(\"grp == 'B'\").rev.hist()\n",
    "df.query(\"grp == 'A'\").rev.hist()"
   ]
  },
  {
   "cell_type": "markdown",
   "metadata": {},
   "source": [
    "### Будем использовать бутстрап: \n",
    "\n",
    "**H0**: Значимых различий между суммами покупок контроль/опыт - нет  \n",
    "**H1**: Значимые различия между суммами покупок контроль/опыт - имееются "
   ]
  },
  {
   "cell_type": "code",
   "execution_count": 28,
   "metadata": {},
   "outputs": [],
   "source": [
    "def get_bootstrap_mean(\n",
    "    data_column_1,             # числовые значения первой выборки\n",
    "    data_column_2,             # числовые значения второй выборки\n",
    "    boot_it=1000,              # количество бутстрэп-подвыборок\n",
    "    statistic=np.mean,         # интересующая нас статистика\n",
    "    bootstrap_conf_level=0.95  # уровень значимости\n",
    "):\n",
    "    boot_len = max([len(data_column_1), len(data_column_2)])\n",
    "    boot_data = []\n",
    "    for i in tqdm(range(boot_it)):  # извлекаем подвыборки\n",
    "        samples_1 = data_column_1.sample(\n",
    "            boot_len, \n",
    "            replace=True            # параметр возвращения\n",
    "        ).values\n",
    "        \n",
    "        samples_2 = data_column_2.sample(\n",
    "            boot_len, \n",
    "            replace=True\n",
    "        ).values\n",
    "        \n",
    "        boot_data.append(statistic(samples_1 - samples_2))    # mean() - применяем статистику\n",
    "        \n",
    "    pd_boot_data = pd.DataFrame(boot_data)\n",
    "        \n",
    "    left_quant = (1 - bootstrap_conf_level) / 2\n",
    "    right_quant = 1 - (1 - bootstrap_conf_level) / 2\n",
    "    ci = pd_boot_data.quantile([left_quant, right_quant])\n",
    "        \n",
    "    p_1 = norm.cdf(\n",
    "        x=0, \n",
    "        loc=np.mean(boot_data), \n",
    "        scale=np.std(boot_data)\n",
    "    )\n",
    "    p_2 = norm.cdf(\n",
    "        x=0, \n",
    "        loc=-np.mean(boot_data), \n",
    "        scale=np.std(boot_data)\n",
    "    )\n",
    "    p_value = min(p_1, p_2) * 2\n",
    "        \n",
    "    # Визуализация\n",
    "    plt.hist(pd_boot_data[0], bins=50)\n",
    "    \n",
    "    plt.style.use('ggplot')\n",
    "    plt.vlines(ci, ymin=0, ymax=50, linestyle='--')\n",
    "    plt.xlabel('boot_data')\n",
    "    plt.ylabel('frequency')\n",
    "    plt.title(\"Histogram of boot_data\")\n",
    "    plt.show()\n",
    "       \n",
    "    return {\"boot_data\": boot_data, \n",
    "            \"ci\": ci, \n",
    "            \"p_value\": p_value}"
   ]
  },
  {
   "cell_type": "code",
   "execution_count": 29,
   "metadata": {},
   "outputs": [
    {
     "data": {
      "application/vnd.jupyter.widget-view+json": {
       "model_id": "108124da5d724d348c400bb4e3315ed1",
       "version_major": 2,
       "version_minor": 0
      },
      "text/plain": [
       "HBox(children=(FloatProgress(value=0.0, max=5000.0), HTML(value='')))"
      ]
     },
     "metadata": {},
     "output_type": "display_data"
    },
    {
     "name": "stdout",
     "output_type": "stream",
     "text": [
      "\n"
     ]
    },
    {
     "data": {
      "image/png": "[encoded data removed]",
      "text/plain": [
       "<Figure size 432x288 with 1 Axes>"
      ]
     },
     "metadata": {},
     "output_type": "display_data"
    }
   ],
   "source": [
    "booted_data_mean = get_bootstrap_mean(df.query(\"grp == 'A' & rev != 'NaN'\").rev, \n",
    "                                      df.query(\"grp == 'B' & rev != 'NaN'\").rev,\n",
    "                                      boot_it=5000)"
   ]
  },
  {
   "cell_type": "code",
   "execution_count": 30,
   "metadata": {
    "scrolled": true
   },
   "outputs": [
    {
     "data": {
      "text/plain": [
       "1.792658005055231e-06"
      ]
     },
     "execution_count": 30,
     "metadata": {},
     "output_type": "execute_result"
    }
   ],
   "source": [
    "booted_data_mean[\"p_value\"]"
   ]
  },
  {
   "cell_type": "markdown",
   "metadata": {},
   "source": [
    "**Сумма покупок значимо различается**"
   ]
  },
  {
   "cell_type": "markdown",
   "metadata": {},
   "source": [
    "### Конверсия:"
   ]
  },
  {
   "cell_type": "markdown",
   "metadata": {},
   "source": [
    "Конверсия считатется по тому совершил покупку пользователь в дни эксперимента или нет, соответственно используем Хи-квадрат Пирсона:"
   ]
  },
  {
   "cell_type": "code",
   "execution_count": 34,
   "metadata": {
    "scrolled": false
   },
   "outputs": [
    {
     "data": {
      "text/html": [
       "<div>\n",
       "<style scoped>\n",
       "    .dataframe tbody tr th:only-of-type {\n",
       "        vertical-align: middle;\n",
       "    }\n",
       "\n",
       "    .dataframe tbody tr th {\n",
       "        vertical-align: top;\n",
       "    }\n",
       "\n",
       "    .dataframe thead th {\n",
       "        text-align: right;\n",
       "    }\n",
       "</style>\n",
       "<table border=\"1\" class=\"dataframe\">\n",
       "  <thead>\n",
       "    <tr style=\"text-align: right;\">\n",
       "      <th></th>\n",
       "      <th>student_id</th>\n",
       "      <th>id</th>\n",
       "      <th>grp</th>\n",
       "      <th>rev</th>\n",
       "      <th>buy</th>\n",
       "    </tr>\n",
       "  </thead>\n",
       "  <tbody>\n",
       "    <tr>\n",
       "      <th>62</th>\n",
       "      <td>1184303</td>\n",
       "      <td>1184303</td>\n",
       "      <td>A</td>\n",
       "      <td>1530.0000</td>\n",
       "      <td>1</td>\n",
       "    </tr>\n",
       "    <tr>\n",
       "      <th>67</th>\n",
       "      <td>3354191</td>\n",
       "      <td>3354191</td>\n",
       "      <td>B</td>\n",
       "      <td>1900.0001</td>\n",
       "      <td>1</td>\n",
       "    </tr>\n",
       "    <tr>\n",
       "      <th>77</th>\n",
       "      <td>3278734</td>\n",
       "      <td>3278734</td>\n",
       "      <td>B</td>\n",
       "      <td>1900.0000</td>\n",
       "      <td>1</td>\n",
       "    </tr>\n",
       "    <tr>\n",
       "      <th>99</th>\n",
       "      <td>720651</td>\n",
       "      <td>720651</td>\n",
       "      <td>A</td>\n",
       "      <td>1980.0000</td>\n",
       "      <td>1</td>\n",
       "    </tr>\n",
       "    <tr>\n",
       "      <th>193</th>\n",
       "      <td>1232221</td>\n",
       "      <td>1232221</td>\n",
       "      <td>B</td>\n",
       "      <td>1900.0000</td>\n",
       "      <td>1</td>\n",
       "    </tr>\n",
       "  </tbody>\n",
       "</table>\n",
       "</div>"
      ],
      "text/plain": [
       "     student_id       id grp        rev  buy\n",
       "62      1184303  1184303   A  1530.0000    1\n",
       "67      3354191  3354191   B  1900.0001    1\n",
       "77      3278734  3278734   B  1900.0000    1\n",
       "99       720651   720651   A  1980.0000    1\n",
       "193     1232221  1232221   B  1900.0000    1"
      ]
     },
     "execution_count": 34,
     "metadata": {},
     "output_type": "execute_result"
    }
   ],
   "source": [
    "# Создам колонку с данными о том совершал ли пользователь в дни эксперимента покупки или нет:\n",
    "df['buy'] = df.rev.apply(lambda x: 1 if x > 0 else 0)\n",
    "\n",
    "# Проверим:\n",
    "df.query(\"rev != 'NaN'\").head()"
   ]
  },
  {
   "cell_type": "markdown",
   "metadata": {},
   "source": [
    "Хи-квадрат работает с таблицой сопряженности, соответственно надо её сделать"
   ]
  },
  {
   "cell_type": "markdown",
   "metadata": {},
   "source": [
    "Функцию нашёл [здесь](https://stackoverflow.com/questions/24767161/can-we-generate-contingency-table-for-chisquare-test-using-python): "
   ]
  },
  {
   "cell_type": "code",
   "execution_count": 35,
   "metadata": {
    "scrolled": false
   },
   "outputs": [
    {
     "data": {
      "text/html": [
       "<div>\n",
       "<style scoped>\n",
       "    .dataframe tbody tr th:only-of-type {\n",
       "        vertical-align: middle;\n",
       "    }\n",
       "\n",
       "    .dataframe tbody tr th {\n",
       "        vertical-align: top;\n",
       "    }\n",
       "\n",
       "    .dataframe thead th {\n",
       "        text-align: right;\n",
       "    }\n",
       "</style>\n",
       "<table border=\"1\" class=\"dataframe\">\n",
       "  <thead>\n",
       "    <tr style=\"text-align: right;\">\n",
       "      <th>grp</th>\n",
       "      <th>A</th>\n",
       "      <th>B</th>\n",
       "    </tr>\n",
       "    <tr>\n",
       "      <th>buy</th>\n",
       "      <th></th>\n",
       "      <th></th>\n",
       "    </tr>\n",
       "  </thead>\n",
       "  <tbody>\n",
       "    <tr>\n",
       "      <th>0</th>\n",
       "      <td>1460</td>\n",
       "      <td>6489</td>\n",
       "    </tr>\n",
       "    <tr>\n",
       "      <th>1</th>\n",
       "      <td>78</td>\n",
       "      <td>314</td>\n",
       "    </tr>\n",
       "  </tbody>\n",
       "</table>\n",
       "</div>"
      ],
      "text/plain": [
       "grp     A     B\n",
       "buy            \n",
       "0    1460  6489\n",
       "1      78   314"
      ]
     },
     "execution_count": 35,
     "metadata": {},
     "output_type": "execute_result"
    }
   ],
   "source": [
    "crostab = pd.crosstab(df.buy, df.grp)\n",
    "crostab"
   ]
  },
  {
   "cell_type": "code",
   "execution_count": 36,
   "metadata": {
    "scrolled": false
   },
   "outputs": [],
   "source": [
    "chi2, p, dof, expected = stats.chi2_contingency(crostab)"
   ]
  },
  {
   "cell_type": "code",
   "execution_count": 37,
   "metadata": {},
   "outputs": [
    {
     "data": {
      "text/plain": [
       "0.48625240457231045"
      ]
     },
     "execution_count": 37,
     "metadata": {},
     "output_type": "execute_result"
    }
   ],
   "source": [
    "p"
   ]
  },
  {
   "cell_type": "markdown",
   "metadata": {},
   "source": [
    "Значимых различий нет, принимаем нулевую гипотезу. "
   ]
  },
  {
   "cell_type": "markdown",
   "metadata": {},
   "source": [
    "Описательные статистики, чтобы не листать высоко:"
   ]
  },
  {
   "cell_type": "code",
   "execution_count": 38,
   "metadata": {
    "scrolled": true
   },
   "outputs": [
    {
     "data": {
      "text/html": [
       "<div>\n",
       "<style scoped>\n",
       "    .dataframe tbody tr th:only-of-type {\n",
       "        vertical-align: middle;\n",
       "    }\n",
       "\n",
       "    .dataframe tbody tr th {\n",
       "        vertical-align: top;\n",
       "    }\n",
       "\n",
       "    .dataframe thead th {\n",
       "        text-align: right;\n",
       "    }\n",
       "</style>\n",
       "<table border=\"1\" class=\"dataframe\">\n",
       "  <thead>\n",
       "    <tr style=\"text-align: right;\">\n",
       "      <th></th>\n",
       "      <th>grp</th>\n",
       "      <th>size</th>\n",
       "      <th>count</th>\n",
       "      <th>min</th>\n",
       "      <th>max</th>\n",
       "      <th>mean</th>\n",
       "      <th>sum</th>\n",
       "      <th>std</th>\n",
       "      <th>median</th>\n",
       "      <th>mode</th>\n",
       "      <th>cr</th>\n",
       "      <th>arpu</th>\n",
       "    </tr>\n",
       "  </thead>\n",
       "  <tbody>\n",
       "    <tr>\n",
       "      <th>0</th>\n",
       "      <td>A</td>\n",
       "      <td>1538</td>\n",
       "      <td>78</td>\n",
       "      <td>199.0</td>\n",
       "      <td>3660.0</td>\n",
       "      <td>933.59</td>\n",
       "      <td>72820.0</td>\n",
       "      <td>919.93</td>\n",
       "      <td>585.0</td>\n",
       "      <td>290.0</td>\n",
       "      <td>5.07</td>\n",
       "      <td>47.347204</td>\n",
       "    </tr>\n",
       "    <tr>\n",
       "      <th>1</th>\n",
       "      <td>B</td>\n",
       "      <td>6803</td>\n",
       "      <td>314</td>\n",
       "      <td>199.0</td>\n",
       "      <td>4650.0</td>\n",
       "      <td>1257.88</td>\n",
       "      <td>394974.0</td>\n",
       "      <td>790.86</td>\n",
       "      <td>1140.0</td>\n",
       "      <td>1900.0</td>\n",
       "      <td>4.62</td>\n",
       "      <td>58.058798</td>\n",
       "    </tr>\n",
       "  </tbody>\n",
       "</table>\n",
       "</div>"
      ],
      "text/plain": [
       "  grp  size  count    min     max     mean       sum     std  median    mode  \\\n",
       "0   A  1538     78  199.0  3660.0   933.59   72820.0  919.93   585.0   290.0   \n",
       "1   B  6803    314  199.0  4650.0  1257.88  394974.0  790.86  1140.0  1900.0   \n",
       "\n",
       "     cr       arpu  \n",
       "0  5.07  47.347204  \n",
       "1  4.62  58.058798  "
      ]
     },
     "execution_count": 38,
     "metadata": {},
     "output_type": "execute_result"
    }
   ],
   "source": [
    "sum_stat"
   ]
  },
  {
   "cell_type": "code",
   "execution_count": 39,
   "metadata": {},
   "outputs": [
    {
     "data": {
      "text/plain": [
       "25.8"
      ]
     },
     "execution_count": 39,
     "metadata": {},
     "output_type": "execute_result"
    }
   ],
   "source": [
    "round((1 - (sum_stat.loc[0, 'mean'] / sum_stat.loc[1, 'mean'])) * 100, 1)"
   ]
  },
  {
   "cell_type": "code",
   "execution_count": 40,
   "metadata": {},
   "outputs": [
    {
     "data": {
      "text/plain": [
       "18.4"
      ]
     },
     "execution_count": 40,
     "metadata": {},
     "output_type": "execute_result"
    }
   ],
   "source": [
    "round((1 - sum_stat.loc[0, 'arpu'] / sum_stat.loc[1, 'arpu']) * 100, 1)"
   ]
  },
  {
   "cell_type": "code",
   "execution_count": 41,
   "metadata": {
    "scrolled": true
   },
   "outputs": [
    {
     "data": {
      "text/plain": [
       "-9.7"
      ]
     },
     "execution_count": 41,
     "metadata": {},
     "output_type": "execute_result"
    }
   ],
   "source": [
    "round((1 - sum_stat.loc[0, 'cr'] / sum_stat.loc[1, 'cr']) * 100, 1)"
   ]
  },
  {
   "cell_type": "markdown",
   "metadata": {},
   "source": [
    "## Итог\n",
    "\n",
    "\n",
    "основная метрика - средний чек пользователя **ARPU**, значимо вырос, на **18.5%**, **средний чек вырос** на **25.8%**, **Конверсия** упала на **9.7%** (но не стат значимо). Можно ли выкатывать обновление? Я бы провел доп. эксперименты и в первую очередь проверил бы систему сплитования, мне не нравится такой сильный дисбаланс в выборке пользователей, а тесты могут быть чувствительны к нему (дисбалансу). Может быть стоит провести отдельный эксперимент для оценки Конверсии.   \n",
    "Что ещё можно сказать?   \n",
    "Решение выкатывать новую систему в прод или нет будет зависить от того какие цели были поставлены перед ней:  \n",
    "* Если нужно было увеличить **Средний чек** или **ARPU**, то она с этим справляется.  \n",
    "* Если нужно было облегчить оплату и **повысить коверсию**, то нужно доделывать и проводить ещё один эксперимент.   \n",
    "\n",
    "Желательно, проверить систему A/B тестирования (через А/А тесты) так как есть часть к ней вопросы: \n",
    "1. Дисбаланс в выборках пользователей\n",
    "2. В выборку оплативших попали пользователи не отмеченные как активные и их было много"
   ]
  },
  {
   "cell_type": "markdown",
   "metadata": {},
   "source": [
    "# Задание 2. SQL\n",
    "## 2.1 Очень усердные ученики.\n",
    "\n",
    "### 2.1.1 Условие\n",
    "\n",
    "Образовательные курсы состоят из различных уроков, каждый из которых состоит из нескольких маленьких заданий. Каждое такое маленькое задание называется \"горошиной\".\n",
    "\n",
    "Назовём очень усердным учеником того пользователя, который хотя бы раз за текущий месяц правильно решил 20 горошин."
   ]
  },
  {
   "cell_type": "markdown",
   "metadata": {},
   "source": [
    "### 2.1.2 Задача\n",
    "\n",
    "Дана таблица **peas**:\n",
    "\n",
    "| Название атрибута | Тип атрибута | Смысловое значение |\n",
    "|:- | :- | ---|\n",
    "| st_id | int | ID | ученика |\n",
    "| timest | timestamp | Время решения карточки |\n",
    "| correct |\tbool | Правильно ли решена горошина? | \n",
    "| subject |\ttext | Дисциплина, в которой находится горошина | \n",
    "\n",
    "\n",
    "Необходимо написать оптимальный запрос, который даст информацию о количестве очень усердных студентов за март 2020 года.\n",
    "\n",
    "NB! Под усердным студентом мы понимаем студента, который правильно решил 20 задач за текущий месяц."
   ]
  },
  {
   "cell_type": "markdown",
   "metadata": {},
   "source": [
    "```sql\n",
    "\n",
    "SELECT   \n",
    "    COUNT(DISTINCT(st_id)) as num_student\n",
    "FROM(  \n",
    "    SELECT   \n",
    "        st_id,  \n",
    "        sum(correct) as total_correct  \n",
    "    FROM default.peas  \n",
    "    WHERE toStartOfMonth(timest) = '2020-03-01' AND correct = 1  \n",
    "    GROUP BY st_id  \n",
    "    HAVING total_correct >= 20  \n",
    ")\n",
    "\n",
    "\n",
    "```"
   ]
  },
  {
   "cell_type": "markdown",
   "metadata": {},
   "source": [
    "## 2.2 Оптимизация воронки\n",
    "\n",
    "### 2.2.1 Условие\n",
    "  \n",
    "Образовательная платформа предлагает пройти студентам курсы по модели trial: студент может решить бесплатно лишь 30 горошин в день. Для неограниченного количества заданий в определенной дисциплине студенту необходимо приобрести полный доступ. Команда провела эксперимент, где был протестирован новый экран оплаты.\n",
    "\n",
    "### 2.2.2 Задача\n",
    "  \n",
    "Дана таблицы: `peas` (см. выше), `studs`:"
   ]
  },
  {
   "cell_type": "markdown",
   "metadata": {},
   "source": [
    "\n",
    "|Название атрибута | Тип атрибута | Смысловое значение|\n",
    "| :- | :-:| --- | \n",
    "|st_id | int | ID | ученика |\n",
    "|test_grp | text | Метка ученика в данном эксперименте |\n",
    "\n",
    "\n",
    "и `final_project_check`:\n",
    "\n",
    "|Название атрибута | Тип атрибута | Смысловое значение|\n",
    "| :- | :-: | --- |\n",
    "|st_id | int | ID ученика |\n",
    "|sale_time | timestamp | Время покупки|\n",
    "|money | int | Цена, по которой приобрели данный курс |\n",
    "|subject | text | Дисциплина, на которую приобрели полный доступ|\n",
    "\n",
    "\n",
    "Необходимо в одном запросе выгрузить следующую информацию о группах пользователей:\n",
    "\n",
    "* **ARPU**\n",
    "* **ARPAU** \n",
    "* **CR** в покупку \n",
    "* **СR** активного пользователя в покупку \n",
    "* **CR** пользователя из активности по математике `(subject = ’math’)` в покупку курса по математике"
   ]
  },
  {
   "cell_type": "markdown",
   "metadata": {},
   "source": [
    "```sql\n",
    "SELECT\n",
    "    s.test_grp,\n",
    "    sum(ch.revenue) / uniqExact(s.st_id) as ARPU,\n",
    "    SUM(ch.revenue) / uniqExact(ch.st_id) as ARPPU,\n",
    "    uniqExact(ch.st_id) / uniqExact(s.st_id) AS CR, \n",
    "    uniqExact(ch.st_id) / uniqExact(p.st_id) AS CR_active,\n",
    "    uniqExact(CASE WHEN p.subject = 'Math' AND ch.subject = 'Math' THEN s.st_id END) / uniqExact(CASE WHEN p.subject = 'Math' THEN s.st_id END) AS CR_math\n",
    "FROM (\n",
    "    SELECT *\n",
    "    FROM (\n",
    "        SELECT DISTINCT(st_id),\n",
    "        test_grp\n",
    "        FROM studs\n",
    "        ) AS s\n",
    "        LEFT JOIN\n",
    "          (SELECT st_id,\n",
    "                  subject\n",
    "           FROM peas\n",
    "           GROUP BY st_id,\n",
    "                    subject) AS p ON s.st_id = p.st_id\n",
    "        LEFT JOIN\n",
    "          (SELECT st_id,\n",
    "                  sum(money) AS revenue,\n",
    "                  subject\n",
    "           FROM final_project_check\n",
    "           GROUP BY st_id,\n",
    "                    subject) AS ch ON s.st_id = ch.st_id\n",
    "        AND p.subject = ch.subject\n",
    "            )  as need\n",
    "GROUP BY \n",
    "    s.test_grp\n",
    "    \n",
    "\n",
    "```"
   ]
  },
  {
   "cell_type": "markdown",
   "metadata": {},
   "source": [
    "# Задание 3. Python\n",
    "## 3.1 Задача\n",
    "\n",
    "Реализуйте функцию, которая будет автоматически подгружать информацию из дополнительного файла `groups_add.csv` (заголовки могут отличаться) и на основании дополнительных параметров пересчитывать метрики.\n",
    "Реализуйте функцию, которая будет строить графики по получаемым метрикам."
   ]
  },
  {
   "cell_type": "code",
   "execution_count": 42,
   "metadata": {},
   "outputs": [],
   "source": [
    "def get_add(path, groups=groups, active_studs=active_studs, checks=checks): \n",
    "    '''\n",
    "    Функция объединяет новые данные со старыми и пересчитывает метрики. \n",
    "    \n",
    "    Параметры\n",
    "    \n",
    "    ---------\n",
    "\n",
    "    path : str \n",
    "                путь к файлу, нет значения по умолчанию\n",
    "                \n",
    "    groups : dataframe \n",
    "    \n",
    "    active_studs : dataframe\n",
    "    \n",
    "    checks : dataframe \n",
    "            \n",
    "    '''\n",
    "\n",
    "    group_add = pd.read_csv(path)\n",
    "    \n",
    "    # Если заголовки могут отличаться то, приведём их к одному виду: \n",
    "    group_add.columns = groups.columns[[0, 1]]\n",
    "    \n",
    "    # объединение с существующими группами: \n",
    "    all_groups = pd.concat([groups, group_add])\n",
    "    \n",
    "    # дубликаты надо удалять:\n",
    "    all_group.id.drop_duplicates(inplace=True)\n",
    "    \n",
    "    # Объединим данные с существующими: \n",
    "    df = active_studs.merge(all_group, left_on='student_id', right_on='id', how='left') \\\n",
    "                     .merge(checks, on='student_id', how='left') \\\n",
    "                     .drop([\"id\"], axis=1)\n",
    "    # рассчёт метрик:\n",
    "    sum_stat = df\\\n",
    "        .groupby(['grp'], as_index=False)\\\n",
    "        .agg({\"rev\": [\"size\", \"count\", \"min\", \"max\",\n",
    "              \"mean\", \"sum\", \"std\", \"median\",\n",
    "              lambda x:x.value_counts().index[0]]}) \\\n",
    "        .round(2)\n",
    "    sum_stat.columns = [\"grp\", \"size\", \"count\", \"min\", \"max\", \"mean\", \"sum\", \"std\", \"median\", \"mode\"]\n",
    "    \n",
    "    sum_stat['arpu'] = sum_stat['sum'] / sum_stat['size']\n",
    "    sum_stat['cr'] = round(sum_stat[\"count\"] / sum_stat[\"size\"] * 100, 2)\n",
    "    return sum_stat  \n",
    "    "
   ]
  },
  {
   "cell_type": "code",
   "execution_count": 43,
   "metadata": {},
   "outputs": [
    {
     "name": "stdout",
     "output_type": "stream",
     "text": [
      "\n",
      "    Функция объединяет новые данные со старыми и пересчитывает метрики. \n",
      "    \n",
      "    Параметры\n",
      "    \n",
      "    ---------\n",
      "\n",
      "    path : str \n",
      "                путь к файлу, нет значения по умолчанию\n",
      "                \n",
      "    groups : dataframe \n",
      "    \n",
      "    active_studs : dataframe\n",
      "    \n",
      "    checks : dataframe \n",
      "            \n",
      "    \n"
     ]
    }
   ],
   "source": [
    "print(get_add.__doc__)"
   ]
  },
  {
   "cell_type": "code",
   "execution_count": 44,
   "metadata": {
    "scrolled": true
   },
   "outputs": [
    {
     "data": {
      "text/html": [
       "<div>\n",
       "<style scoped>\n",
       "    .dataframe tbody tr th:only-of-type {\n",
       "        vertical-align: middle;\n",
       "    }\n",
       "\n",
       "    .dataframe tbody tr th {\n",
       "        vertical-align: top;\n",
       "    }\n",
       "\n",
       "    .dataframe thead th {\n",
       "        text-align: right;\n",
       "    }\n",
       "</style>\n",
       "<table border=\"1\" class=\"dataframe\">\n",
       "  <thead>\n",
       "    <tr style=\"text-align: right;\">\n",
       "      <th></th>\n",
       "      <th>grp</th>\n",
       "      <th>size</th>\n",
       "      <th>count</th>\n",
       "      <th>min</th>\n",
       "      <th>max</th>\n",
       "      <th>mean</th>\n",
       "      <th>sum</th>\n",
       "      <th>std</th>\n",
       "      <th>median</th>\n",
       "      <th>mode</th>\n",
       "      <th>arpu</th>\n",
       "      <th>cr</th>\n",
       "    </tr>\n",
       "  </thead>\n",
       "  <tbody>\n",
       "    <tr>\n",
       "      <th>0</th>\n",
       "      <td>A</td>\n",
       "      <td>1538</td>\n",
       "      <td>78</td>\n",
       "      <td>199.0</td>\n",
       "      <td>3660.0</td>\n",
       "      <td>933.59</td>\n",
       "      <td>72820.0</td>\n",
       "      <td>919.93</td>\n",
       "      <td>585.0</td>\n",
       "      <td>290.0</td>\n",
       "      <td>47.347204</td>\n",
       "      <td>5.07</td>\n",
       "    </tr>\n",
       "    <tr>\n",
       "      <th>1</th>\n",
       "      <td>B</td>\n",
       "      <td>6803</td>\n",
       "      <td>314</td>\n",
       "      <td>199.0</td>\n",
       "      <td>4650.0</td>\n",
       "      <td>1257.88</td>\n",
       "      <td>394974.0</td>\n",
       "      <td>790.86</td>\n",
       "      <td>1140.0</td>\n",
       "      <td>1900.0</td>\n",
       "      <td>58.058798</td>\n",
       "      <td>4.62</td>\n",
       "    </tr>\n",
       "  </tbody>\n",
       "</table>\n",
       "</div>"
      ],
      "text/plain": [
       "  grp  size  count    min     max     mean       sum     std  median    mode  \\\n",
       "0   A  1538     78  199.0  3660.0   933.59   72820.0  919.93   585.0   290.0   \n",
       "1   B  6803    314  199.0  4650.0  1257.88  394974.0  790.86  1140.0  1900.0   \n",
       "\n",
       "        arpu    cr  \n",
       "0  47.347204  5.07  \n",
       "1  58.058798  4.62  "
      ]
     },
     "execution_count": 44,
     "metadata": {},
     "output_type": "execute_result"
    }
   ],
   "source": [
    "get_add('/mnt/HC_Volume_18315164/home-jupyter/jupyter-k-stojanov-21/final_project_data/Проект_2_group_add.csv')"
   ]
  },
  {
   "cell_type": "code",
   "execution_count": 45,
   "metadata": {
    "scrolled": false
   },
   "outputs": [
    {
     "data": {
      "image/png": "[encoded data removed]",
      "text/plain": [
       "<Figure size 1080x2160 with 12 Axes>"
      ]
     },
     "metadata": {},
     "output_type": "display_data"
    }
   ],
   "source": [
    "def show_stats(sum_stat):\n",
    "    '''\n",
    "    Функция рисует графики по полученным метрикам.\n",
    "    \n",
    "    Параметры\n",
    "    \n",
    "    ---------\n",
    "    \n",
    "    sum_stat : dataframe\n",
    "                            таблица с описательными статистиками. \n",
    "    '''\n",
    "    fig, axes = plt.subplots(nrows=6, ncols=2, figsize=(15, 30))\n",
    "    col = [\"size\", \"count\", \"min\", \"max\", \"mean\", \"sum\", \"std\", \"median\", \"mode\", \"arpu\", \"cr\"]\n",
    "    labels = ['Size', 'Count', 'Min Check', 'Max Check', 'Mean Check', 'Summary Revenue', \"Std of Check\", \n",
    "              'Median Check', 'Mode Check', 'ARPU', 'CR']\n",
    "    for lab, m, ax in zip(labels, col, axes.flatten()):\n",
    "        sns.barplot(x='grp', y=m, data=sum_stat, ax=ax)\n",
    "        ax.set(title=lab, xlabel=None, ylabel=None)\n",
    "    plt.show()\n",
    "\n",
    "    \n",
    "show_stats(sum_stat)"
   ]
  }
 ],
 "metadata": {
  "kernelspec": {
   "display_name": "Python 3",
   "language": "python",
   "name": "python3"
  },
  "language_info": {
   "codemirror_mode": {
    "name": "ipython",
    "version": 3
   },
   "file_extension": ".py",
   "mimetype": "text/x-python",
   "name": "python",
   "nbconvert_exporter": "python",
   "pygments_lexer": "ipython3",
   "version": "3.7.3"
  }
 },
 "nbformat": 4,
 "nbformat_minor": 4
}
